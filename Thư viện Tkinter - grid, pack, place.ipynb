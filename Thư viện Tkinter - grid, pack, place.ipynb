{
 "cells": [
  {
   "cell_type": "markdown",
   "id": "4c559a90",
   "metadata": {},
   "source": [
    "## pack\n",
    "\n",
    "Lệnh `pack()` sẽ giúp sắp xếp các đối tượng theo thứ tự nhất định"
   ]
  },
  {
   "cell_type": "code",
   "execution_count": 2,
   "id": "d6af98e3",
   "metadata": {},
   "outputs": [],
   "source": [
    "from tkinter import *\n",
    "window = Tk()\n",
    "window.geometry(\"200x400\")\n",
    "window.title(\"Form registration\")\n",
    "fullName_lbl= Label(window,text=\"Full name\")\n",
    "email_lbl= Label(window,text=\"Email\")\n",
    "address_lbl= Label(window,text=\"Address\")\n",
    "fullname_txt = Entry(window)\n",
    "email_txt = Entry(window)\n",
    "address_txt = Entry(window)\n",
    "submit_btn = Button(window,text=\"Submit\")\n",
    "\n",
    "#fullName_lbl.pack()\n",
    "#fullname_txt.pack()\n",
    "#email_lbl.pack()\n",
    "#email_txt.pack()\n",
    "#address_lbl.pack()\n",
    "#address_txt.pack()\n",
    "#submit_btn.pack()\n",
    "\n",
    "fullName_lbl.pack()\n",
    "fullname_txt.pack()\n",
    "email_lbl.pack()\n",
    "email_txt.pack()\n",
    "address_lbl.pack()\n",
    "address_txt.pack()\n",
    "submit_btn.pack()\n",
    "\n",
    "\n",
    "window.mainloop()\n"
   ]
  },
  {
   "cell_type": "markdown",
   "id": "0093b00d",
   "metadata": {},
   "source": [
    "## grid\n",
    "Lệnh `grid()` sẽ giúp sắp xếp các đối tượng theo một bảng"
   ]
  },
  {
   "cell_type": "code",
   "execution_count": null,
   "id": "d89cd306",
   "metadata": {},
   "outputs": [],
   "source": []
  },
  {
   "cell_type": "markdown",
   "id": "f0a05577",
   "metadata": {},
   "source": [
    "## place\n",
    "\n",
    "Lệnh `place()` sắp xếp các widget bằng cách đặt chúng vào một vị trí cụ thể trong widget chính."
   ]
  },
  {
   "cell_type": "code",
   "execution_count": null,
   "id": "070e6374",
   "metadata": {},
   "outputs": [],
   "source": []
  }
 ],
 "metadata": {
  "kernelspec": {
   "display_name": "Python 3.9.12 ('base')",
   "language": "python",
   "name": "python3"
  },
  "language_info": {
   "codemirror_mode": {
    "name": "ipython",
    "version": 3
   },
   "file_extension": ".py",
   "mimetype": "text/x-python",
   "name": "python",
   "nbconvert_exporter": "python",
   "pygments_lexer": "ipython3",
   "version": "3.9.12 (main, Apr  4 2022, 05:22:27) [MSC v.1916 64 bit (AMD64)]"
  },
  "vscode": {
   "interpreter": {
    "hash": "83706a1ef006aa5bf305b0bb8f555fd091501d256a21caa2bf65e7d34f666adf"
   }
  }
 },
 "nbformat": 4,
 "nbformat_minor": 5
}
